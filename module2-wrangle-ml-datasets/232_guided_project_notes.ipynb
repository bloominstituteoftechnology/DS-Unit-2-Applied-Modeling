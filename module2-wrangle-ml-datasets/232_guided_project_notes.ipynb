{
  "nbformat": 4,
  "nbformat_minor": 0,
  "metadata": {
    "colab": {
      "name": "232-guided-project-notes.ipynb",
      "provenance": []
    },
    "kernelspec": {
      "display_name": "Python 3",
      "language": "python",
      "name": "python3"
    },
    "language_info": {
      "codemirror_mode": {
        "name": "ipython",
        "version": 3
      },
      "file_extension": ".py",
      "mimetype": "text/x-python",
      "name": "python",
      "nbconvert_exporter": "python",
      "pygments_lexer": "ipython3",
      "version": "3.8.5"
    }
  },
  "cells": [
    {
      "cell_type": "markdown",
      "metadata": {
        "id": "RUhphDysw-6P"
      },
      "source": [
        "Lambda School Data Science\n",
        "\n",
        "*Unit 2, Sprint 3, Module 2*\n",
        "\n",
        "---\n"
      ]
    },
    {
      "cell_type": "markdown",
      "metadata": {
        "id": "QiHzbgUAw-6R"
      },
      "source": [
        "# Wrangle ML datasets \n",
        "- Explore tabular data for supervised machine learning\n",
        "- Join relational data for supervised machine learning"
      ]
    },
    {
      "cell_type": "code",
      "metadata": {
        "id": "F-dKxK6fBbwa"
      },
      "source": [
        "from glob import glob\n",
        "import numpy as np\n",
        "import matplotlib.pyplot as plt\n",
        "import pandas as pd\n",
        "import requests\n",
        "import tarfile"
      ],
      "execution_count": null,
      "outputs": []
    },
    {
      "cell_type": "markdown",
      "metadata": {
        "id": "qZTd9maPtj3e"
      },
      "source": [
        "# I. Wrangle Data"
      ]
    },
    {
      "cell_type": "code",
      "metadata": {
        "id": "GDhEvgSew-6T"
      },
      "source": [
        ""
      ],
      "execution_count": null,
      "outputs": []
    },
    {
      "cell_type": "code",
      "metadata": {
        "id": "fJHLCinIw-6Z"
      },
      "source": [
        ""
      ],
      "execution_count": null,
      "outputs": []
    },
    {
      "cell_type": "markdown",
      "metadata": {
        "id": "chXGkC9Ktj3y"
      },
      "source": [
        "**Before you start,** load each of the above `.csv` files into its own DataFrame."
      ]
    },
    {
      "cell_type": "code",
      "metadata": {
        "id": "xCxkdXeKBbwc"
      },
      "source": [
        ""
      ],
      "execution_count": null,
      "outputs": []
    },
    {
      "cell_type": "markdown",
      "metadata": {
        "id": "Z7ssyH6utj3y"
      },
      "source": [
        "## I.a. Warm-up Questions"
      ]
    },
    {
      "cell_type": "markdown",
      "metadata": {
        "id": "C4BGM4cEtj3z"
      },
      "source": [
        "What information is contained in the column `orders['eval_set']`?"
      ]
    },
    {
      "cell_type": "code",
      "metadata": {
        "id": "m71rQiGBtj30"
      },
      "source": [
        ""
      ],
      "execution_count": null,
      "outputs": []
    },
    {
      "cell_type": "markdown",
      "metadata": {
        "id": "keXsOJMYtj34"
      },
      "source": [
        "The first row of `orders['order_id']` is `2539329`. Where can we find the items that were included in that order?"
      ]
    },
    {
      "cell_type": "code",
      "metadata": {
        "id": "Ch5lBZBvtj35"
      },
      "source": [
        ""
      ],
      "execution_count": null,
      "outputs": []
    },
    {
      "cell_type": "markdown",
      "metadata": {
        "id": "ACc2MNUZtj3-"
      },
      "source": [
        "The first row of `order_products__prior['product_id']` is `33120`. What is the name of that product?"
      ]
    },
    {
      "cell_type": "code",
      "metadata": {
        "id": "GkLcdIByBbwd"
      },
      "source": [
        ""
      ],
      "execution_count": null,
      "outputs": []
    },
    {
      "cell_type": "markdown",
      "metadata": {
        "id": "OToRF_OtBbwd"
      },
      "source": [
        "## I.b. Define Our Machine Learning Problem\n",
        "\n",
        "- We want predict whether or not a customer will purchase a specific item (or our choosing)."
      ]
    },
    {
      "cell_type": "code",
      "metadata": {
        "id": "GA6YVf3g2Gc_"
      },
      "source": [
        ""
      ],
      "execution_count": null,
      "outputs": []
    },
    {
      "cell_type": "markdown",
      "metadata": {
        "id": "BTz778CXBbwe"
      },
      "source": [
        "## I.c. Create Feature Matrix and Target Vector\n",
        "\n",
        "Our **feature matrix** will be all the `'train'` rows from `orders`."
      ]
    },
    {
      "cell_type": "code",
      "metadata": {
        "id": "K06V_6-32Iia"
      },
      "source": [
        ""
      ],
      "execution_count": null,
      "outputs": []
    },
    {
      "cell_type": "markdown",
      "metadata": {
        "id": "qKVxApLBBbwe"
      },
      "source": [
        "Our **target vector** will be whether or not each order in `X` contains the item we've chosen above."
      ]
    },
    {
      "cell_type": "code",
      "metadata": {
        "id": "OrJ4MHqeBbwe"
      },
      "source": [
        ""
      ],
      "execution_count": null,
      "outputs": []
    },
    {
      "cell_type": "markdown",
      "metadata": {
        "id": "mEg8SNdvBbwf"
      },
      "source": [
        "# II. Split Data"
      ]
    },
    {
      "cell_type": "code",
      "metadata": {
        "id": "Cl56UVuTBbwf"
      },
      "source": [
        "target = ...\n",
        "y = ...\n",
        "X = ..."
      ],
      "execution_count": null,
      "outputs": []
    },
    {
      "cell_type": "code",
      "metadata": {
        "id": "TFFRhuQ7Bbwf"
      },
      "source": [
        "X_train, X_val, y_train, y_val = train_test_split(X, y, test_size=0.2, random_state=42)"
      ],
      "execution_count": null,
      "outputs": []
    },
    {
      "cell_type": "markdown",
      "metadata": {
        "id": "VDfK6piFBbwf"
      },
      "source": [
        "# III. Establish Baseline"
      ]
    },
    {
      "cell_type": "code",
      "metadata": {
        "id": "XtW-fW24Bbwf"
      },
      "source": [
        "print('Baseline accuracy:', y_train.value_counts(normalize=True).max())"
      ],
      "execution_count": null,
      "outputs": []
    },
    {
      "cell_type": "markdown",
      "metadata": {
        "id": "8rQa7pwVBbwf"
      },
      "source": [
        "# IV. Build Model"
      ]
    },
    {
      "cell_type": "code",
      "metadata": {
        "id": "-gU0-t7l2m04"
      },
      "source": [
        ""
      ],
      "execution_count": null,
      "outputs": []
    },
    {
      "cell_type": "markdown",
      "metadata": {
        "id": "H15P2YTzBbwf"
      },
      "source": [
        "# V. Check Metrics"
      ]
    },
    {
      "cell_type": "code",
      "metadata": {
        "id": "kt87VWWL2nnT"
      },
      "source": [
        ""
      ],
      "execution_count": null,
      "outputs": []
    }
  ]
}